{
  "nbformat": 4,
  "nbformat_minor": 0,
  "metadata": {
    "colab": {
      "name": "Untitled3.ipynb",
      "provenance": [],
      "authorship_tag": "ABX9TyMD+BHCJoXAoe7P8BkEt/wo",
      "include_colab_link": true
    },
    "kernelspec": {
      "name": "python3",
      "display_name": "Python 3"
    }
  },
  "cells": [
    {
      "cell_type": "markdown",
      "metadata": {
        "id": "view-in-github",
        "colab_type": "text"
      },
      "source": [
        "<a href=\"https://colab.research.google.com/github/DrigoDomingos/onfarm/blob/master/onfarm_dl.ipynb\" target=\"_parent\"><img src=\"https://colab.research.google.com/assets/colab-badge.svg\" alt=\"Open In Colab\"/></a>"
      ]
    },
    {
      "cell_type": "code",
      "metadata": {
        "id": "7VLDFRlylZc5",
        "colab_type": "code",
        "colab": {
          "base_uri": "https://localhost:8080/",
          "height": 228
        },
        "outputId": "141f201e-ec33-4447-9587-60514a956c1c"
      },
      "source": [
        "!unzip Etapa1.zip"
      ],
      "execution_count": 3,
      "outputs": [
        {
          "output_type": "stream",
          "text": [
            "Archive:  Etapa1.zip\n",
            "   creating: Etapa1/AzulClaro/\n",
            "  inflating: Etapa1/AzulClaro/1.jpg  \n",
            "  inflating: Etapa1/AzulClaro/1.xml  \n",
            "  inflating: Etapa1/AzulClaro/2.jpg  \n",
            "  inflating: Etapa1/AzulClaro/2.xml  \n",
            "  inflating: Etapa1/AzulClaro/3.jpg  \n",
            "  inflating: Etapa1/AzulClaro/3.xml  \n",
            "  inflating: Etapa1/AzulClaro/4.jpg  \n",
            "  inflating: Etapa1/AzulClaro/4.xml  \n",
            "  inflating: Etapa1/AzulClaro/5.jpg  \n",
            "  inflating: Etapa1/AzulClaro/5.xml  \n"
          ],
          "name": "stdout"
        }
      ]
    }
  ]
}