{
  "nbformat": 4,
  "nbformat_minor": 0,
  "metadata": {
    "colab": {
      "name": "onfarm_dl.ipynb",
      "provenance": [],
      "authorship_tag": "ABX9TyOhP+A7pInva/9D/9T8DYO/",
      "include_colab_link": true
    },
    "kernelspec": {
      "name": "python3",
      "display_name": "Python 3"
    }
  },
  "cells": [
    {
      "cell_type": "markdown",
      "metadata": {
        "id": "view-in-github",
        "colab_type": "text"
      },
      "source": [
        "<a href=\"https://colab.research.google.com/github/DrigoDomingos/onfarm/blob/master/onfarm_dl.ipynb\" target=\"_parent\"><img src=\"https://colab.research.google.com/assets/colab-badge.svg\" alt=\"Open In Colab\"/></a>"
      ]
    },
    {
      "cell_type": "markdown",
      "metadata": {
        "id": "_giaouARDMIO",
        "colab_type": "text"
      },
      "source": [
        "# Upload the files"
      ]
    },
    {
      "cell_type": "code",
      "metadata": {
        "id": "7VLDFRlylZc5",
        "colab_type": "code",
        "outputId": "7dd82e48-6d3b-4804-f45b-8c79c6ad7ad9",
        "colab": {
          "base_uri": "https://localhost:8080/",
          "height": 639
        }
      },
      "source": [
        "!unzip dp_model.zip"
      ],
      "execution_count": 8,
      "outputs": [
        {
          "output_type": "stream",
          "text": [
            "Archive:  dp_model.zip\n",
            "   creating: dp_model/\n",
            "  inflating: dp_model/.gitignore     \n",
            "   creating: dp_model/Etapa1/\n",
            "   creating: dp_model/Etapa1/AzulClaro/\n",
            "  inflating: dp_model/Etapa1/AzulClaro/1.jpg  \n",
            "  inflating: dp_model/Etapa1/AzulClaro/1.xml  \n",
            "  inflating: dp_model/Etapa1/AzulClaro/2.jpg  \n",
            "  inflating: dp_model/Etapa1/AzulClaro/2.xml  \n",
            "  inflating: dp_model/Etapa1/AzulClaro/3.jpg  \n",
            "  inflating: dp_model/Etapa1/AzulClaro/3.xml  \n",
            "  inflating: dp_model/Etapa1/AzulClaro/4.jpg  \n",
            "  inflating: dp_model/Etapa1/AzulClaro/4.xml  \n",
            "  inflating: dp_model/Etapa1/AzulClaro/5.jpg  \n",
            "  inflating: dp_model/Etapa1/AzulClaro/5.xml  \n",
            "   creating: dp_model/keras_frcnn/\n",
            "  inflating: dp_model/keras_frcnn/config.py  \n",
            "  inflating: dp_model/keras_frcnn/data_augment.py  \n",
            "  inflating: dp_model/keras_frcnn/data_generators.py  \n",
            "  inflating: dp_model/keras_frcnn/FixedBatchNormalization.py  \n",
            "  inflating: dp_model/keras_frcnn/losses.py  \n",
            "  inflating: dp_model/keras_frcnn/pascal_voc_parser.py  \n",
            "  inflating: dp_model/keras_frcnn/resnet.py  \n",
            "  inflating: dp_model/keras_frcnn/RoiPoolingConv.py  \n",
            "  inflating: dp_model/keras_frcnn/roi_helpers.py  \n",
            "  inflating: dp_model/keras_frcnn/simple_parser.py  \n",
            "  inflating: dp_model/keras_frcnn/vgg.py  \n",
            " extracting: dp_model/keras_frcnn/__init__.py  \n",
            "  inflating: dp_model/LICENSE        \n",
            "  inflating: dp_model/measure_map.py  \n",
            "  inflating: dp_model/model_frcnn.hdf5  \n",
            "  inflating: dp_model/README.md      \n",
            " extracting: dp_model/requirements.txt  \n",
            "  inflating: dp_model/test_frcnn.py  \n",
            "  inflating: dp_model/train_frcnn.py  \n"
          ],
          "name": "stdout"
        }
      ]
    },
    {
      "cell_type": "code",
      "metadata": {
        "id": "xlr4H-1NL1oM",
        "colab_type": "code",
        "colab": {
          "base_uri": "https://localhost:8080/",
          "height": 35
        },
        "outputId": "b1f2357b-cd01-4698-f015-1802afb7e4c8"
      },
      "source": [
        "cd dp_model/"
      ],
      "execution_count": 9,
      "outputs": [
        {
          "output_type": "stream",
          "text": [
            "/content/dp_model\n"
          ],
          "name": "stdout"
        }
      ]
    },
    {
      "cell_type": "markdown",
      "metadata": {
        "id": "3ROARo8yQlk2",
        "colab_type": "text"
      },
      "source": [
        ""
      ]
    },
    {
      "cell_type": "markdown",
      "metadata": {
        "id": "9ETSOJgxQkwr",
        "colab_type": "text"
      },
      "source": [
        "# Convert XML to CSV"
      ]
    },
    {
      "cell_type": "code",
      "metadata": {
        "id": "sTSal8OaPhtw",
        "colab_type": "code",
        "colab": {}
      },
      "source": [
        "import os, sys, random\n",
        "import xml.etree.ElementTree as ET\n",
        "from glob import glob\n",
        "import pandas as pd\n",
        "from shutil import copyfile\n",
        "\n",
        "\n",
        "def convert_xml2csv(path):\n",
        "  annotations = glob(path)\n",
        "  df = []\n",
        "  cnt = 0\n",
        "  for file in annotations:\n",
        "      #filename = file.split('/')[-1].split('.')[0] + '.jpg'\n",
        "      #filename = str(cnt) + '.jpg'\n",
        "      filename = file.split('\\\\')[-1]\n",
        "      filename =filename.split('.')[0] + '.jpg'\n",
        "      row = []\n",
        "      parsedXML = ET.parse(file)\n",
        "      for node in parsedXML.getroot().iter('object'):\n",
        "          blood_cells = node.find('name').text\n",
        "          xmin = int(node.find('bndbox/xmin').text)\n",
        "          xmax = int(node.find('bndbox/xmax').text)\n",
        "          ymin = int(node.find('bndbox/ymin').text)\n",
        "          ymax = int(node.find('bndbox/ymax').text)\n",
        "\n",
        "          row = [filename, blood_cells, xmin, xmax, ymin, ymax]\n",
        "          df.append(row)\n",
        "          cnt += 1\n",
        "\n",
        "  data = pd.DataFrame(df, columns=['filename', 'cell_type', 'xmin', 'xmax', 'ymin', 'ymax'])\n",
        "\n",
        "  data[['filename', 'cell_type', 'xmin', 'xmax', 'ymin', 'ymax']].to_csv('test.csv', index=False)\n",
        "\n",
        "\n",
        "#Azul claro\n",
        "convert_xml2csv('/content/Etapa1/AzulClaro/*.xml')\n"
      ],
      "execution_count": 0,
      "outputs": []
    },
    {
      "cell_type": "markdown",
      "metadata": {
        "id": "sMjxdwRkG-tz",
        "colab_type": "text"
      },
      "source": [
        "# Install libraries"
      ]
    },
    {
      "cell_type": "code",
      "metadata": {
        "id": "aRv2vWmoQImv",
        "colab_type": "code",
        "outputId": "ae1dabbb-e4e5-4b88-a578-3b2fba9f8956",
        "colab": {
          "base_uri": "https://localhost:8080/",
          "height": 552
        }
      },
      "source": [
        "!pip install -r requirement.txt"
      ],
      "execution_count": 2,
      "outputs": [
        {
          "output_type": "stream",
          "text": [
            "Requirement already satisfied: h5py in /usr/local/lib/python3.6/dist-packages (from -r requirement.txt (line 1)) (2.8.0)\n",
            "Requirement already satisfied: tensorflow in /usr/local/lib/python3.6/dist-packages (from -r requirement.txt (line 2)) (1.15.0)\n",
            "Requirement already satisfied: Keras in /usr/local/lib/python3.6/dist-packages (from -r requirement.txt (line 3)) (2.0.3)\n",
            "Requirement already satisfied: numpy in /usr/local/lib/python3.6/dist-packages (from -r requirement.txt (line 4)) (1.17.5)\n",
            "Requirement already satisfied: opencv-python in /usr/local/lib/python3.6/dist-packages (from -r requirement.txt (line 5)) (4.1.2.30)\n",
            "Requirement already satisfied: sklearn in /usr/local/lib/python3.6/dist-packages (from -r requirement.txt (line 6)) (0.0)\n",
            "Requirement already satisfied: six in /usr/local/lib/python3.6/dist-packages (from h5py->-r requirement.txt (line 1)) (1.12.0)\n",
            "Requirement already satisfied: termcolor>=1.1.0 in /usr/local/lib/python3.6/dist-packages (from tensorflow->-r requirement.txt (line 2)) (1.1.0)\n",
            "Requirement already satisfied: opt-einsum>=2.3.2 in /usr/local/lib/python3.6/dist-packages (from tensorflow->-r requirement.txt (line 2)) (3.1.0)\n",
            "Requirement already satisfied: wrapt>=1.11.1 in /usr/local/lib/python3.6/dist-packages (from tensorflow->-r requirement.txt (line 2)) (1.11.2)\n",
            "Requirement already satisfied: protobuf>=3.6.1 in /usr/local/lib/python3.6/dist-packages (from tensorflow->-r requirement.txt (line 2)) (3.10.0)\n",
            "Requirement already satisfied: grpcio>=1.8.6 in /usr/local/lib/python3.6/dist-packages (from tensorflow->-r requirement.txt (line 2)) (1.15.0)\n",
            "Requirement already satisfied: tensorflow-estimator==1.15.1 in /usr/local/lib/python3.6/dist-packages (from tensorflow->-r requirement.txt (line 2)) (1.15.1)\n",
            "Requirement already satisfied: google-pasta>=0.1.6 in /usr/local/lib/python3.6/dist-packages (from tensorflow->-r requirement.txt (line 2)) (0.1.8)\n",
            "Requirement already satisfied: tensorboard<1.16.0,>=1.15.0 in /usr/local/lib/python3.6/dist-packages (from tensorflow->-r requirement.txt (line 2)) (1.15.0)\n",
            "Requirement already satisfied: gast==0.2.2 in /usr/local/lib/python3.6/dist-packages (from tensorflow->-r requirement.txt (line 2)) (0.2.2)\n",
            "Requirement already satisfied: astor>=0.6.0 in /usr/local/lib/python3.6/dist-packages (from tensorflow->-r requirement.txt (line 2)) (0.8.1)\n",
            "Requirement already satisfied: keras-applications>=1.0.8 in /usr/local/lib/python3.6/dist-packages (from tensorflow->-r requirement.txt (line 2)) (1.0.8)\n",
            "Requirement already satisfied: keras-preprocessing>=1.0.5 in /usr/local/lib/python3.6/dist-packages (from tensorflow->-r requirement.txt (line 2)) (1.1.0)\n",
            "Requirement already satisfied: absl-py>=0.7.0 in /usr/local/lib/python3.6/dist-packages (from tensorflow->-r requirement.txt (line 2)) (0.9.0)\n",
            "Requirement already satisfied: wheel>=0.26 in /usr/local/lib/python3.6/dist-packages (from tensorflow->-r requirement.txt (line 2)) (0.33.6)\n",
            "Requirement already satisfied: pyyaml in /usr/local/lib/python3.6/dist-packages (from Keras->-r requirement.txt (line 3)) (3.13)\n",
            "Requirement already satisfied: theano in /usr/local/lib/python3.6/dist-packages (from Keras->-r requirement.txt (line 3)) (1.0.4)\n",
            "Requirement already satisfied: scikit-learn in /usr/local/lib/python3.6/dist-packages (from sklearn->-r requirement.txt (line 6)) (0.22.1)\n",
            "Requirement already satisfied: setuptools in /usr/local/lib/python3.6/dist-packages (from protobuf>=3.6.1->tensorflow->-r requirement.txt (line 2)) (42.0.2)\n",
            "Requirement already satisfied: werkzeug>=0.11.15 in /usr/local/lib/python3.6/dist-packages (from tensorboard<1.16.0,>=1.15.0->tensorflow->-r requirement.txt (line 2)) (0.16.0)\n",
            "Requirement already satisfied: markdown>=2.6.8 in /usr/local/lib/python3.6/dist-packages (from tensorboard<1.16.0,>=1.15.0->tensorflow->-r requirement.txt (line 2)) (3.1.1)\n",
            "Requirement already satisfied: scipy>=0.14 in /usr/local/lib/python3.6/dist-packages (from theano->Keras->-r requirement.txt (line 3)) (1.4.1)\n",
            "Requirement already satisfied: joblib>=0.11 in /usr/local/lib/python3.6/dist-packages (from scikit-learn->sklearn->-r requirement.txt (line 6)) (0.14.1)\n"
          ],
          "name": "stdout"
        }
      ]
    },
    {
      "cell_type": "code",
      "metadata": {
        "id": "5x5sQvpaHIvf",
        "colab_type": "code",
        "colab": {
          "base_uri": "https://localhost:8080/",
          "height": 35
        },
        "outputId": "73ac2226-a8f6-4d16-b80d-0f58bbfe3580"
      },
      "source": [
        "cd .."
      ],
      "execution_count": 16,
      "outputs": [
        {
          "output_type": "stream",
          "text": [
            "/content/dp_model\n"
          ],
          "name": "stdout"
        }
      ]
    },
    {
      "cell_type": "code",
      "metadata": {
        "id": "3dmSE4feMj2p",
        "colab_type": "code",
        "colab": {
          "base_uri": "https://localhost:8080/",
          "height": 141
        },
        "outputId": "68fc3473-59f9-4c4c-ea7d-c61aaddfafa9"
      },
      "source": [
        "!python train_frcnn.py -o simple -p annotate.txt"
      ],
      "execution_count": 19,
      "outputs": [
        {
          "output_type": "stream",
          "text": [
            "Using TensorFlow backend.\n",
            "Traceback (most recent call last):\n",
            "  File \"train_frcnn.py\", line 79, in <module>\n",
            "    all_imgs, classes_count, class_mapping = get_data(options.train_path)\n",
            "  File \"/content/dp_model/keras_frcnn/simple_parser.py\", line 14, in get_data\n",
            "    with open(input_path,'r') as f:\n",
            "FileNotFoundError: [Errno 2] No such file or directory: 'annotate.txt'\n"
          ],
          "name": "stdout"
        }
      ]
    }
  ]
}