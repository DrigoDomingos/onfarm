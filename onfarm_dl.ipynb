{
  "nbformat": 4,
  "nbformat_minor": 0,
  "metadata": {
    "colab": {
      "name": "onfarm_dl.ipynb",
      "provenance": [],
      "authorship_tag": "ABX9TyOqJcekqOdDosHTcKS5W1lD",
      "include_colab_link": true
    },
    "kernelspec": {
      "name": "python3",
      "display_name": "Python 3"
    }
  },
  "cells": [
    {
      "cell_type": "markdown",
      "metadata": {
        "id": "view-in-github",
        "colab_type": "text"
      },
      "source": [
        "<a href=\"https://colab.research.google.com/github/DrigoDomingos/onfarm/blob/master/onfarm_dl.ipynb\" target=\"_parent\"><img src=\"https://colab.research.google.com/assets/colab-badge.svg\" alt=\"Open In Colab\"/></a>"
      ]
    },
    {
      "cell_type": "code",
      "metadata": {
        "id": "7VLDFRlylZc5",
        "colab_type": "code",
        "colab": {
          "base_uri": "https://localhost:8080/",
          "height": 228
        },
        "outputId": "afa866a7-4602-4630-c8db-0f0f159a2d35"
      },
      "source": [
        "!unzip Etapa1.zip"
      ],
      "execution_count": 1,
      "outputs": [
        {
          "output_type": "stream",
          "text": [
            "Archive:  Etapa1.zip\n",
            "   creating: Etapa1/AzulClaro/\n",
            "  inflating: Etapa1/AzulClaro/1.jpg  \n",
            "  inflating: Etapa1/AzulClaro/1.xml  \n",
            "  inflating: Etapa1/AzulClaro/2.jpg  \n",
            "  inflating: Etapa1/AzulClaro/2.xml  \n",
            "  inflating: Etapa1/AzulClaro/3.jpg  \n",
            "  inflating: Etapa1/AzulClaro/3.xml  \n",
            "  inflating: Etapa1/AzulClaro/4.jpg  \n",
            "  inflating: Etapa1/AzulClaro/4.xml  \n",
            "  inflating: Etapa1/AzulClaro/5.jpg  \n",
            "  inflating: Etapa1/AzulClaro/5.xml  \n"
          ],
          "name": "stdout"
        }
      ]
    },
    {
      "cell_type": "markdown",
      "metadata": {
        "id": "3ROARo8yQlk2",
        "colab_type": "text"
      },
      "source": [
        ""
      ]
    },
    {
      "cell_type": "markdown",
      "metadata": {
        "id": "9ETSOJgxQkwr",
        "colab_type": "text"
      },
      "source": [
        "# Convert XML to CSV"
      ]
    },
    {
      "cell_type": "code",
      "metadata": {
        "id": "sTSal8OaPhtw",
        "colab_type": "code",
        "colab": {}
      },
      "source": [
        "import os, sys, random\n",
        "import xml.etree.ElementTree as ET\n",
        "from glob import glob\n",
        "import pandas as pd\n",
        "from shutil import copyfile\n",
        "\n",
        "annotations = glob('/content/Etapa1/AzulClaro/*.xml')\n",
        "\n",
        "df = []\n",
        "cnt = 0\n",
        "for file in annotations:\n",
        "    #filename = file.split('/')[-1].split('.')[0] + '.jpg'\n",
        "    #filename = str(cnt) + '.jpg'\n",
        "    filename = file.split('\\\\')[-1]\n",
        "    filename =filename.split('.')[0] + '.jpg'\n",
        "    row = []\n",
        "    parsedXML = ET.parse(file)\n",
        "    for node in parsedXML.getroot().iter('object'):\n",
        "        blood_cells = node.find('name').text\n",
        "        xmin = int(node.find('bndbox/xmin').text)\n",
        "        xmax = int(node.find('bndbox/xmax').text)\n",
        "        ymin = int(node.find('bndbox/ymin').text)\n",
        "        ymax = int(node.find('bndbox/ymax').text)\n",
        "\n",
        "        row = [filename, blood_cells, xmin, xmax, ymin, ymax]\n",
        "        df.append(row)\n",
        "        cnt += 1\n",
        "\n",
        "data = pd.DataFrame(df, columns=['filename', 'cell_type', 'xmin', 'xmax', 'ymin', 'ymax'])\n",
        "\n",
        "data[['filename', 'cell_type', 'xmin', 'xmax', 'ymin', 'ymax']].to_csv('test.csv', index=False)"
      ],
      "execution_count": 0,
      "outputs": []
    },
    {
      "cell_type": "code",
      "metadata": {
        "id": "aRv2vWmoQImv",
        "colab_type": "code",
        "colab": {
          "base_uri": "https://localhost:8080/",
          "height": 1000
        },
        "outputId": "21715f5f-38d5-4fc8-dad8-a15ecdff26e6"
      },
      "source": [
        "!cat test.csv\n"
      ],
      "execution_count": 6,
      "outputs": [
        {
          "output_type": "stream",
          "text": [
            "filename,cell_type,xmin,xmax,ymin,ymax\n",
            "/content/Etapa1/AzulClaro/2.jpg,azul_claro,683,737,538,584\n",
            "/content/Etapa1/AzulClaro/2.jpg,azul_claro,1205,1251,498,544\n",
            "/content/Etapa1/AzulClaro/2.jpg,azul_claro,1116,1175,841,890\n",
            "/content/Etapa1/AzulClaro/2.jpg,azul_claro,735,783,744,792\n",
            "/content/Etapa1/AzulClaro/2.jpg,azul_claro,1597,1648,854,892\n",
            "/content/Etapa1/AzulClaro/2.jpg,azul_claro,1348,1397,568,614\n",
            "/content/Etapa1/AzulClaro/2.jpg,azul_claro,851,900,841,903\n",
            "/content/Etapa1/AzulClaro/2.jpg,azul_claro,618,672,638,698\n",
            "/content/Etapa1/AzulClaro/2.jpg,azul_claro,600,656,722,765\n",
            "/content/Etapa1/AzulClaro/2.jpg,azul_claro,772,824,441,506\n",
            "/content/Etapa1/AzulClaro/2.jpg,azul_claro,1559,1629,679,749\n",
            "/content/Etapa1/AzulClaro/2.jpg,azul_claro,1010,1072,682,736\n",
            "/content/Etapa1/AzulClaro/1.jpg,azul_claro,1235,1270,1030,1065\n",
            "/content/Etapa1/AzulClaro/1.jpg,azul_claro,1605,1643,930,984\n",
            "/content/Etapa1/AzulClaro/1.jpg,azul_claro,1208,1262,303,354\n",
            "/content/Etapa1/AzulClaro/1.jpg,azul_claro,1400,1462,98,149\n",
            "/content/Etapa1/AzulClaro/1.jpg,azul_claro,1683,1735,946,1000\n",
            "/content/Etapa1/AzulClaro/1.jpg,azul_claro,1908,1964,479,538\n",
            "/content/Etapa1/AzulClaro/1.jpg,azul_claro,1189,1240,592,649\n",
            "/content/Etapa1/AzulClaro/1.jpg,azul_claro,1659,1716,187,246\n",
            "/content/Etapa1/AzulClaro/1.jpg,azul_claro,1532,1591,503,554\n",
            "/content/Etapa1/AzulClaro/1.jpg,azul_claro,1854,1902,690,736\n",
            "/content/Etapa1/AzulClaro/5.jpg,azul_claro,1235,1283,263,306\n",
            "/content/Etapa1/AzulClaro/5.jpg,azul_claro,1232,1278,357,403\n",
            "/content/Etapa1/AzulClaro/5.jpg,azul_claro,1302,1343,284,330\n",
            "/content/Etapa1/AzulClaro/5.jpg,azul_claro,1359,1405,365,414\n",
            "/content/Etapa1/AzulClaro/5.jpg,azul_claro,1589,1624,336,371\n",
            "/content/Etapa1/AzulClaro/5.jpg,azul_claro,1248,1294,438,495\n",
            "/content/Etapa1/AzulClaro/5.jpg,azul_claro,1316,1359,436,490\n",
            "/content/Etapa1/AzulClaro/5.jpg,azul_claro,1272,1332,509,568\n",
            "/content/Etapa1/AzulClaro/5.jpg,azul_claro,1575,1632,379,441\n",
            "/content/Etapa1/AzulClaro/5.jpg,azul_claro,1667,1718,376,419\n",
            "/content/Etapa1/AzulClaro/5.jpg,azul_claro,1302,1354,598,654\n",
            "/content/Etapa1/AzulClaro/5.jpg,azul_claro,1286,1329,692,738\n",
            "/content/Etapa1/AzulClaro/5.jpg,azul_claro,1286,1321,765,800\n",
            "/content/Etapa1/AzulClaro/5.jpg,azul_claro,1500,1562,754,798\n",
            "/content/Etapa1/AzulClaro/5.jpg,azul_claro,1629,1681,879,927\n",
            "/content/Etapa1/AzulClaro/5.jpg,azul_claro,1700,1732,763,798\n",
            "/content/Etapa1/AzulClaro/5.jpg,azul_claro,1740,1781,714,752\n",
            "/content/Etapa1/AzulClaro/5.jpg,azul_claro,1854,1897,682,719\n",
            "/content/Etapa1/AzulClaro/5.jpg,azul_claro,1278,1305,814,884\n",
            "/content/Etapa1/AzulClaro/5.jpg,azul_claro,1297,1340,936,973\n",
            "/content/Etapa1/AzulClaro/5.jpg,azul_claro,1321,1370,1060,1103\n",
            "/content/Etapa1/AzulClaro/5.jpg,azul_claro,1445,1483,1030,1065\n",
            "/content/Etapa1/AzulClaro/5.jpg,azul_claro,1505,1527,917,960\n",
            "/content/Etapa1/AzulClaro/5.jpg,azul_claro,1497,1537,830,884\n",
            "/content/Etapa1/AzulClaro/5.jpg,azul_claro,1375,1443,290,338\n",
            "/content/Etapa1/AzulClaro/5.jpg,azul_claro,1675,1727,484,527\n",
            "/content/Etapa1/AzulClaro/5.jpg,azul_claro,1564,1618,460,495\n",
            "/content/Etapa1/AzulClaro/5.jpg,azul_claro,1781,1810,546,595\n",
            "/content/Etapa1/AzulClaro/5.jpg,azul_claro,1535,1572,522,568\n",
            "/content/Etapa1/AzulClaro/3.jpg,azul_claro,716,759,938,990\n",
            "/content/Etapa1/AzulClaro/3.jpg,azul_claro,867,913,914,946\n",
            "/content/Etapa1/AzulClaro/3.jpg,azul_claro,1067,1129,1176,1222\n",
            "/content/Etapa1/AzulClaro/3.jpg,azul_claro,835,889,1063,1100\n",
            "/content/Etapa1/AzulClaro/3.jpg,azul_claro,1124,1159,784,827\n",
            "/content/Etapa1/AzulClaro/3.jpg,azul_claro,1383,1429,636,690\n",
            "/content/Etapa1/AzulClaro/3.jpg,azul_claro,967,1024,995,1044\n",
            "/content/Etapa1/AzulClaro/3.jpg,azul_claro,1054,1100,998,1030\n",
            "/content/Etapa1/AzulClaro/3.jpg,azul_claro,1218,1278,979,1025\n",
            "/content/Etapa1/AzulClaro/3.jpg,azul_claro,1494,1545,1052,1095\n",
            "/content/Etapa1/AzulClaro/3.jpg,azul_claro,1197,1245,1065,1117\n",
            "/content/Etapa1/AzulClaro/3.jpg,azul_claro,556,594,1076,1117\n",
            "/content/Etapa1/AzulClaro/3.jpg,azul_claro,1524,1562,792,830\n",
            "/content/Etapa1/AzulClaro/3.jpg,azul_claro,1621,1651,838,882\n",
            "/content/Etapa1/AzulClaro/4.jpg,azul_claro,689,781,592,654\n",
            "/content/Etapa1/AzulClaro/4.jpg,azul_claro,640,716,498,557\n",
            "/content/Etapa1/AzulClaro/4.jpg,azul_claro,713,781,798,846\n",
            "/content/Etapa1/AzulClaro/4.jpg,azul_claro,870,913,495,546\n",
            "/content/Etapa1/AzulClaro/4.jpg,azul_claro,1016,1070,752,811\n",
            "/content/Etapa1/AzulClaro/4.jpg,azul_claro,1018,1083,573,617\n",
            "/content/Etapa1/AzulClaro/4.jpg,azul_claro,848,916,398,452\n",
            "/content/Etapa1/AzulClaro/4.jpg,azul_claro,654,724,671,746\n",
            "/content/Etapa1/AzulClaro/4.jpg,azul_claro,970,1008,1014,1076\n",
            "/content/Etapa1/AzulClaro/4.jpg,azul_claro,1148,1218,914,965\n",
            "/content/Etapa1/AzulClaro/4.jpg,azul_claro,1259,1308,1063,1122\n",
            "/content/Etapa1/AzulClaro/4.jpg,azul_claro,1154,1200,717,757\n",
            "/content/Etapa1/AzulClaro/4.jpg,azul_claro,1229,1281,736,792\n",
            "/content/Etapa1/AzulClaro/4.jpg,azul_claro,1045,1075,279,330\n",
            "/content/Etapa1/AzulClaro/4.jpg,azul_claro,910,951,295,344\n",
            "/content/Etapa1/AzulClaro/4.jpg,azul_claro,862,927,657,725\n",
            "/content/Etapa1/AzulClaro/4.jpg,azul_claro,1202,1235,571,617\n",
            "/content/Etapa1/AzulClaro/4.jpg,azul_claro,1164,1205,384,419\n"
          ],
          "name": "stdout"
        }
      ]
    }
  ]
}